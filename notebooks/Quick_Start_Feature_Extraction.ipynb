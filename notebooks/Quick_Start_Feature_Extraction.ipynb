{
 "cells": [
  {
   "cell_type": "markdown",
   "id": "c1fe2eb3",
   "metadata": {},
   "source": [
    "# 🚀 Quick Start: BEATs Feature Extraction\n",
    "\n",
    "This notebook shows you how to extract audio features using BEATs in just a few minutes!\n",
    "\n",
    "## What You'll Learn\n",
    "- Install and import BEATs trainer\n",
    "- Extract features from audio files\n",
    "- Compare different audio samples\n",
    "\n",
    "**Estimated time**: 5-10 minutes"
   ]
  },
  {
   "cell_type": "markdown",
   "id": "d1389de6",
   "metadata": {},
   "source": [
    "## 1. Install and Import\n",
    "\n",
    "First, let's install the package and import what we need:"
   ]
  },
  {
   "cell_type": "code",
   "execution_count": null,
   "id": "ace6b3bf",
   "metadata": {},
   "outputs": [],
   "source": [
    "# Install beats-trainer (uncomment if needed)\n",
    "# !pip install git+https://github.com/ninanor/beats-trainer.git\n",
    "\n",
    "# Import the feature extractor\n",
    "from beats_trainer import BEATsFeatureExtractor\n",
    "import numpy as np\n",
    "\n",
    "print(\"✅ Ready to extract features!\")"
   ]
  },
  {
   "cell_type": "markdown",
   "id": "888fd4f4",
   "metadata": {},
   "source": [
    "## 2. Create Feature Extractor\n",
    "\n",
    "This automatically downloads the pretrained model (~345MB) on first use:"
   ]
  },
  {
   "cell_type": "code",
   "execution_count": null,
   "id": "1f9c2216",
   "metadata": {},
   "outputs": [],
   "source": [
    "# Create feature extractor (downloads model automatically)\n",
    "extractor = BEATsFeatureExtractor()\n",
    "\n",
    "print(\"🎯 Feature extractor ready!\")\n",
    "print(f\"Model loaded on: {extractor.device}\")\n",
    "print(f\"Feature dimension: {extractor.get_feature_dim()}\")"
   ]
  },
  {
   "cell_type": "markdown",
   "id": "3c95b058",
   "metadata": {},
   "source": [
    "## 3. Extract Features from Audio\n",
    "\n",
    "Let's extract features from audio files. You can use your own files or the examples below:"
   ]
  },
  {
   "cell_type": "code",
   "execution_count": null,
   "id": "4a37c943",
   "metadata": {},
   "outputs": [],
   "source": [
    "# Example 1: Extract from a single audio file\n",
    "# Replace 'your_audio.wav' with your audio file path\n",
    "try:\n",
    "    features = extractor.extract_from_file(\"your_audio.wav\")\n",
    "    print(f\"✅ Extracted features: {features.shape}\")\n",
    "except FileNotFoundError:\n",
    "    print(\"📝 Replace 'your_audio.wav' with your actual audio file path\")\n",
    "    \n",
    "    # Create synthetic audio for demo\n",
    "    synthetic_audio = np.random.randn(16000).astype(np.float32)  # 1 second at 16kHz\n",
    "    features = extractor.extract_from_array(synthetic_audio, sample_rate=16000)\n",
    "    print(f\"✅ Demo features from synthetic audio: {features.shape}\")"
   ]
  },
  {
   "cell_type": "code",
   "execution_count": null,
   "id": "2a039b20",
   "metadata": {},
   "outputs": [],
   "source": [
    "# Example 2: Process multiple audio files\n",
    "audio_files = [\n",
    "    \"audio1.wav\",\n",
    "    \"audio2.wav\", \n",
    "    \"audio3.wav\"\n",
    "]\n",
    "\n",
    "try:\n",
    "    # Extract features from multiple files\n",
    "    batch_features = extractor.extract_from_files(audio_files)\n",
    "    print(f\"✅ Batch features: {batch_features.shape}\")\n",
    "    print(f\"   {len(audio_files)} files processed\")\n",
    "    \n",
    "except FileNotFoundError:\n",
    "    print(\"📝 Replace with your actual audio file paths\")\n",
    "    \n",
    "    # Demo with synthetic audio\n",
    "    synthetic_batch = [np.random.randn(16000).astype(np.float32) for _ in range(3)]\n",
    "    batch_features = extractor.extract_from_batch(synthetic_batch)\n",
    "    print(f\"✅ Demo batch features: {batch_features.shape}\")"
   ]
  },
  {
   "cell_type": "markdown",
   "id": "a1f487b0",
   "metadata": {},
   "source": [
    "## 4. What Can You Do with Features?\n",
    "\n",
    "BEATs features are high-quality audio embeddings. Here are some ideas:"
   ]
  },
  {
   "cell_type": "code",
   "execution_count": null,
   "id": "0542ecf2",
   "metadata": {},
   "outputs": [],
   "source": [
    "# Calculate similarity between audio samples\n",
    "from sklearn.metrics.pairwise import cosine_similarity\n",
    "\n",
    "if 'batch_features' in locals() and len(batch_features) >= 2:\n",
    "    # Compare first two audio samples\n",
    "    similarity = cosine_similarity([batch_features[0]], [batch_features[1]])[0, 0]\n",
    "    print(f\"🔍 Similarity between audio 1 and 2: {similarity:.3f}\")\n",
    "    print(f\"   (Range: -1 to 1, where 1 = identical)\")\n",
    "    \n",
    "    # Find most similar pair\n",
    "    similarities = cosine_similarity(batch_features)\n",
    "    # Set diagonal to -1 to ignore self-similarity\n",
    "    np.fill_diagonal(similarities, -1)\n",
    "    max_idx = np.unravel_index(np.argmax(similarities), similarities.shape)\n",
    "    max_sim = similarities[max_idx]\n",
    "    print(f\"🎯 Most similar pair: audio {max_idx[0]} and {max_idx[1]} (similarity: {max_sim:.3f})\")"
   ]
  },
  {
   "cell_type": "markdown",
   "id": "4f0b0f71",
   "metadata": {},
   "source": [
    "## 5. Next Steps\n",
    "\n",
    "🎉 **Congratulations!** You've successfully extracted audio features with BEATs.\n",
    "\n",
    "### More Advanced Examples\n",
    "- Check out `ESC50_Fine_Tuning_Tutorial.ipynb` for training custom models\n",
    "- See `BEATs_Feature_Extraction_Comparison.ipynb` for detailed analysis\n",
    "\n",
    "### Need Help?\n",
    "- 📖 [Documentation](https://github.com/ninanor/beats-trainer)\n",
    "- 🐛 [Report Issues](https://github.com/ninanor/beats-trainer/issues)"
   ]
  }
 ],
 "metadata": {
  "language_info": {
   "name": "python"
  }
 },
 "nbformat": 4,
 "nbformat_minor": 5
}
